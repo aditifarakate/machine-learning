{
 "cells": [
  {
   "cell_type": "code",
   "execution_count": null,
   "id": "0410bcfb-688a-4bd8-aa4c-0122eb45aed6",
   "metadata": {},
   "outputs": [],
   "source": [
    "#import library\n",
    "import numpy as np\n",
    "import pandas as pd"
   ]
  },
  {
   "cell_type": "code",
   "execution_count": null,
   "id": "35f0ec9d-380e-44ae-afe8-52293caafd1d",
   "metadata": {},
   "outputs": [],
   "source": [
    "# Importing and reading dataset\n",
    "ds=pd.read_csv(\"New_cleaned_data.csv\")\n",
    "ds"
   ]
  },
  {
   "cell_type": "code",
   "execution_count": null,
   "id": "5b8e620c-bf96-4cec-a027-0602fd17c990",
   "metadata": {},
   "outputs": [],
   "source": [
    "# Remove unnamed column\n",
    "\n",
    "ds = ds.loc[:, ~ds.columns.str.contains('^Unnamed')]                \n",
    "ds"
   ]
  },
  {
   "cell_type": "code",
   "execution_count": 4,
   "id": "586aad8b-3395-439e-8958-070db85bc572",
   "metadata": {},
   "outputs": [
    {
     "name": "stdout",
     "output_type": "stream",
     "text": [
      "<class 'pandas.core.frame.DataFrame'>\n",
      "RangeIndex: 651 entries, 0 to 650\n",
      "Data columns (total 6 columns):\n",
      " #   Column      Non-Null Count  Dtype  \n",
      "---  ------      --------------  -----  \n",
      " 0   name        651 non-null    object \n",
      " 1   company     651 non-null    object \n",
      " 2   year        651 non-null    int64  \n",
      " 3   Price       651 non-null    float64\n",
      " 4   kms_driven  651 non-null    int64  \n",
      " 5   fuel_type   651 non-null    object \n",
      "dtypes: float64(1), int64(2), object(3)\n",
      "memory usage: 30.6+ KB\n"
     ]
    }
   ],
   "source": [
    "ds.info()"
   ]
  },
  {
   "cell_type": "code",
   "execution_count": null,
   "id": "193b3979-9d51-431c-9f55-642ac2fefa76",
   "metadata": {},
   "outputs": [],
   "source": [
    "# Spliting data into Independent and dependent variables\n",
    "\n",
    "x=ds[['company','name','year','kms_driven','fuel_type']]\n",
    "y=ds[['Price']]"
   ]
  },
  {
   "cell_type": "code",
   "execution_count": null,
   "id": "885020d8-b24d-48c0-82e4-7f7d830b10c9",
   "metadata": {},
   "outputs": [],
   "source": [
    "# Cheack lenth\n",
    "\n",
    "print(len(ds['company'].unique()))\n",
    "print(len(ds['name'].unique()))\n",
    "print(len(ds['fuel_type'].unique()))"
   ]
  },
  {
   "cell_type": "code",
   "execution_count": null,
   "id": "d418c04b-7d44-435b-82ae-340af1b9486e",
   "metadata": {},
   "outputs": [],
   "source": [
    "# Implement OneHotEncoder\n",
    "\n",
    "from sklearn.preprocessing import OneHotEncoder\n",
    "from sklearn.compose import make_column_transformer   # dataframe create then categorical to numeric and vice_versa\n",
    "ohe=OneHotEncoder()\n",
    "ohe.fit(x[[\"company\",\"name\",\"fuel_type\"]])"
   ]
  },
  {
   "cell_type": "code",
   "execution_count": null,
   "id": "6b752c71-9f5c-4e2b-97f6-fd80123dd02d",
   "metadata": {},
   "outputs": [],
   "source": [
    "# To categories check\n",
    "\n",
    "ohe.categories_"
   ]
  },
  {
   "cell_type": "code",
   "execution_count": null,
   "id": "60552d28-479a-4210-add8-f3c8224d791f",
   "metadata": {},
   "outputs": [],
   "source": [
    "ct=make_column_transformer((OneHotEncoder(handle_unknown='ignore',categories=ohe.categories_),[\"company\",\"name\",\"fuel_type\"]),remainder='passthrough',force_int_remainder_cols=False,sparse_threshold=0)\n",
    "ct                          "
   ]
  },
  {
   "cell_type": "code",
   "execution_count": null,
   "id": "7228e614-c303-4e7e-8aa1-3a334eb7f98e",
   "metadata": {},
   "outputs": [],
   "source": [
    "# making pipeline\n",
    "\n",
    "from sklearn.linear_model import LinearRegression\n",
    "reg=LinearRegression()\n"
   ]
  },
  {
   "cell_type": "code",
   "execution_count": null,
   "id": "f4b90d46-b913-474d-9a8f-5c244755b41d",
   "metadata": {},
   "outputs": [],
   "source": [
    "from sklearn.pipeline import make_pipeline\n",
    "pipe=make_pipeline(ct,reg)\n",
    "pipe"
   ]
  },
  {
   "cell_type": "code",
   "execution_count": null,
   "id": "9135f965-ae57-4b34-a3b2-9e058fd7cbb4",
   "metadata": {},
   "outputs": [],
   "source": [
    "# Spliting dataset into training and testing\n",
    "\n",
    "from sklearn.model_selection import train_test_split\n",
    "from sklearn.metrics import r2_score\n",
    "scores=[]\n",
    "for i in range(0,101):\n",
    "    x_train,x_test,y_train,y_test=train_test_split(x,y,test_size=0.10,random_state=i)\n",
    "    pipe.fit(x_train,y_train)\n",
    "    result=pipe.predict(x_test)\n",
    "    score=r2_score(y_test,result)\n",
    "    scores.append(score)"
   ]
  },
  {
   "cell_type": "code",
   "execution_count": null,
   "id": "54982df4-7ebe-4781-8447-f7e483505bc6",
   "metadata": {},
   "outputs": [],
   "source": [
    "# Finding best value\n",
    "\n",
    "bestindex=np.argmax(scores)\n",
    "scores[bestindex]\n"
   ]
  },
  {
   "cell_type": "code",
   "execution_count": null,
   "id": "c4746457-8e93-4e4b-9769-92f2a9c1c564",
   "metadata": {},
   "outputs": [],
   "source": [
    "x_train,x_test,y_train,y_test=train_test_split(x,y,test_size=0.10,random_state=bestindex)\n",
    "pipe.fit(x_train,y_train)"
   ]
  },
  {
   "cell_type": "code",
   "execution_count": null,
   "id": "b9519e99-0eec-4fd9-ae4d-5259be0c5412",
   "metadata": {},
   "outputs": [],
   "source": [
    "# Predict for user_input\n",
    "\n",
    "company=input(\"Enter company name : \")\n",
    "name=input(\"Enter car name : \")\n",
    "year=int(input(\"Enter year : \"))\n",
    "kms_driven=int(input(\"Enter kms_driven : \"))\n",
    "fuel_type=input(\"Enter fuel type : \")\n",
    "columns=[\"company\",\"name\",\"year\",\"kms_driven\",\"fuel_type\"]\n",
    "\n",
    "myinput=pd.DataFrame(columns=columns,data=[[company,name,year,kms_driven,fuel_type]])\n",
    "result=pipe.predict(myinput)\n",
    "\n",
    "print(\"You should buy it for ~ price :\",abs(round(result[0,0])))"
   ]
  },
  {
   "cell_type": "code",
   "execution_count": null,
   "id": "4699b406-6307-4a5b-bbf4-dfbba0f37e39",
   "metadata": {},
   "outputs": [],
   "source": [
    "import pickle as pkl"
   ]
  },
  {
   "cell_type": "code",
   "execution_count": null,
   "id": "cdeabeaf-df65-46fd-9a3e-064923809f7e",
   "metadata": {},
   "outputs": [],
   "source": [
    "pkl.dump(pipe,open(\"CarProject.pkl\",\"wb\"))"
   ]
  },
  {
   "cell_type": "code",
   "execution_count": null,
   "id": "2174295d-bf25-4c35-a99b-991bb4821fdf",
   "metadata": {},
   "outputs": [],
   "source": []
  }
 ],
 "metadata": {
  "kernelspec": {
   "display_name": "Python [conda env:base] *",
   "language": "python",
   "name": "conda-base-py"
  },
  "language_info": {
   "codemirror_mode": {
    "name": "ipython",
    "version": 3
   },
   "file_extension": ".py",
   "mimetype": "text/x-python",
   "name": "python",
   "nbconvert_exporter": "python",
   "pygments_lexer": "ipython3",
   "version": "3.13.5"
  }
 },
 "nbformat": 4,
 "nbformat_minor": 5
}
